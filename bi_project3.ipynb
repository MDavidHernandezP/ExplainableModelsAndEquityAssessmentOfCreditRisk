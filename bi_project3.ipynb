{
 "cells": [
  {
   "cell_type": "markdown",
   "id": "69a6590b",
   "metadata": {},
   "source": [
    "# Riesgo de crédito con modelos explicables y evaluación de equidad\n",
    "\n",
    "Una institución financiera desea apoyar su decisión de originación de crédito identificando, con anticipación, solicitantes con alto riesgo de incumplimiento. Tu misión es construir una comparativa técnica de modelos que produzcan probabilidades calibradas y explicables, evaluar su desempeño y analizar posibles brechas de equidad entre subgrupos. El resultado debe traducirse en recomendaciones operativas y en la justificación de qué modelo conviene utilizar y por qué.\n",
    "\n",
    "### Team members:\n",
    "\n",
    "* Mario David Hernandez Pantoja\n",
    "* Oscar Martinez Estevez\n",
    "* Gerardo Hernandez Widman\n",
    "* Moises Jesus Carrillo Alonzo\n",
    "* Braulio Jesus Perez Tamayo"
   ]
  },
  {
   "cell_type": "markdown",
   "id": "c7f2435d",
   "metadata": {},
   "source": [
    "# Datos\n",
    "Usa el German Credit del UCI Machine Learning Repository. Puedes elegir entre:\n",
    "* Statlog (German Credit Data): 1,000 instancias y 20 variables; clasifica solicitantes como “good/bad” e incluye una matriz de costos: https://archive.ics.uci.edu/dataset/144/statlog+german+credit+data\n",
    "* South German Credit: versión documentada y corregida (700 “good” / 300 “bad”, 20 predictores), con notas de muestreo y codificación; suele facilitar la interpretación y prácticas de explicabilidad: https://archive.ics.uci.edu/dataset/522/south+german+credit\n"
   ]
  },
  {
   "cell_type": "markdown",
   "id": "5eacc245",
   "metadata": {},
   "source": [
    "# Requerimientos del Análisis\n",
    "1) **Análisis Exploratorio y Calidad de Datos**\n",
    "\n",
    "Caracterización completa del conjunto de datos incluyendo distribución de la clase, tipificación de variables, detección y tratamiento de faltantes, duplicados y outliers. Se espera una narrativa visual (gráficos y tablas) que conecte hallazgos con hipótesis de negocio sobre segmentos de mayor riesgo. Debes dejar por escrito las reglas de limpieza aplicadas y justificar su impacto.\n",
    "\n",
    "2) **Modelado con probabilidades calibradas**\n",
    "\n",
    "Se requiere entrenar y comparar cuatro enfoques bajo un mismo split estratificado o validación equivalente (fijar semilla para reproducibilidad) y calibrar probabilidades (Platt o Isotónica) usando únicamente datos de entrenamiento/validación:\n",
    "1. Modelo de regresión logística junto con su reporte de coeficientes y odds ratios.\n",
    "2. Modelo basado en árboles de decisión y extracción explícita de reglas interpretables.\n",
    "3. Modelo ensemble (por ejemplo, Random Forest o Gradient Boosting).\n",
    "4. Red neuronal.\n",
    "\n",
    "Debes optimizar el umbral de decisión (además del 0.5) con un criterio declarado y reportar el efecto del umbral elegido.\n",
    "\n",
    "3) **Métricas y comparación fuera de muestra**\n",
    "\n",
    "Realiza la evaluación de los modelos de acuerdo a las métricas seleccionadas (Accuracy, Precision, Recall, F1, ROC-AUC y PR-AUC) junto con la matriz de confusión correspondiente. La comparación debe discutir estabilidad (varianza esperada), robustez ante desbalance y sensibilidad al umbral. Incluye curvas ROC y PR para visualizar el trade-off. \n",
    "\n",
    "4) **Explicabilidad global y local**\n",
    "\n",
    "El análisis debe facilitar la trazabilidad de por qué un solicitante es clasificado como riesgoso:\n",
    "\n",
    "* Global: interpreta coeficientes y odds (logística), muestra importancias (árbol/ensemble) y presenta 2–3 reglas del árbol que definan segmentos de alto riesgo.\n",
    "* Local: explica al menos tres casos individuales (uno mal clasificado, uno “frontera” y uno de riesgo alto). Puedes usar SHAP o LIME; para la red neuronal, considera Integrated Gradients o SHAP Kernel según factibilidad. La explicación debe ser comprensible para negocio (texto corto + visual).\n",
    "\n",
    "5) **Evaluación de equidad (fairness)**\n",
    "\n",
    "Selecciona uno o dos atributos comparativos presentes en el dataset (grupos de edad o estado civil) y contrasta resultados entre subgrupos. Reporta al menos dos métricas de equidad (por ejemplo, Demographic Parity: tasa de positivos, y Equal Opportunity: TPR/Recall por grupo) e incluye tamaños muestrales y una discusión honesta de limitaciones (histórico, proxies, label bias).\n",
    "\n",
    "6) **Recomendación operativa**\n",
    "\n",
    "Con base en desempeño, explicabilidad y equidad, cierra con una propuesta de uso, un umbral recomendado y plan de monitoreo y mantenimiento (monitoreo periódico, recalibración, auditorías de equidad y documentación de decisiones)."
   ]
  },
  {
   "cell_type": "markdown",
   "id": "e94f099a",
   "metadata": {},
   "source": [
    "# Entregables\n",
    "1. Notebook con secciones claramente identificadas que correspondan a los requerimientos anteriores:\n",
    "    * Exploración y Calidad de Datos\n",
    "    * Modelado \n",
    "    * Evaluación\n",
    "    * Explicabilidad\n",
    "    * Evaluación de Equidad\n",
    "\n",
    "2. Resumen ejecutivo donde concluyas qué modelo utilizar y por qué, integrando:\n",
    "    * Exploración y Calidad de Datos\n",
    "    * Modelado \n",
    "    * Evaluación\n",
    "    * Explicabilidad\n",
    "    * Evaluación de Equida"
   ]
  },
  {
   "cell_type": "markdown",
   "id": "f2d61b65",
   "metadata": {},
   "source": []
  }
 ],
 "metadata": {
  "language_info": {
   "name": "python"
  }
 },
 "nbformat": 4,
 "nbformat_minor": 5
}
